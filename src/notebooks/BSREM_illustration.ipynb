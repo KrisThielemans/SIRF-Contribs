{
 "cells": [
  {
   "cell_type": "markdown",
   "id": "9b38b51a-fc89-447f-9805-b1a9f019b7e8",
   "metadata": {},
   "source": [
    "# Demonstration of basic BSREM implementation with SIRF\n",
    "\n",
    "This notebook is largely based on the `display_and_projection` notebook from the SIRF-Exercises to simulate some data.\n",
    "Then it proceeds with reconstructing it with BSREM."
   ]
  },
  {
   "cell_type": "markdown",
   "id": "3a43dcf4-76eb-4008-b9d1-99d19bc0e00d",
   "metadata": {},
   "source": [
    "Author: Kris Thielemans  \n",
    "\n",
    "CCP SyneRBI Synergistic Image Reconstruction Framework (SIRF).  \n",
    "Copyright 2015 - 2017 Rutherford Appleton Laboratory STFC.  \n",
    "Copyright 2015 - 2018, 2021, 024 University College London.\n",
    "\n",
    "This is software developed for the Collaborative Computational\n",
    "Project in Synergistic Reconstruction for Biomedical Imaging\n",
    "(http://www.ccpsynerbi.ac.uk/).\n",
    "\n",
    "SPDX-License-Identifier: Apache-2.0"
   ]
  },
  {
   "cell_type": "code",
   "execution_count": null,
   "id": "19c50243-2a31-4755-a8b0-8d4c2931fbde",
   "metadata": {},
   "outputs": [],
   "source": [
    "#%% make sure figures appears inline and animations works\n",
    "%matplotlib widget"
   ]
  },
  {
   "cell_type": "code",
   "execution_count": null,
   "id": "7494b357-5199-428b-ad05-82b17d70b174",
   "metadata": {},
   "outputs": [],
   "source": [
    "#%% Initial imports etc\n",
    "import numpy\n",
    "import matplotlib.pyplot as plt\n",
    "import os\n",
    "import sys\n",
    "import sirf.STIR as STIR\n",
    "from sirf.Utilities import examples_data_path\n",
    "#from sirf_exercises import exercises_data_path"
   ]
  },
  {
   "cell_type": "code",
   "execution_count": null,
   "id": "deeb6d38-859f-4cd5-ab9d-c33adfb86365",
   "metadata": {},
   "outputs": [],
   "source": [
    "import sys\n",
    "sys.path.insert(0,'/home/sirfuser/devel/SIRF-Contribs/src/Python/sirf')"
   ]
  },
  {
   "cell_type": "code",
   "execution_count": null,
   "id": "c0a3f380-1413-405d-9fa2-ee36a4b5ff35",
   "metadata": {},
   "outputs": [],
   "source": [
    "import contrib.partitioner.partitioner as partitioner\n",
    "from contrib.BSREM.BSREM import BSREM1\n",
    "from contrib.BSREM.BSREM import BSREM2"
   ]
  },
  {
   "cell_type": "code",
   "execution_count": null,
   "id": "2e4e0353-bb28-486b-b5d3-e9878e95d2c3",
   "metadata": {},
   "outputs": [],
   "source": [
    "# define the directory with input files for this notebook\n",
    "data_path = os.path.join(examples_data_path('PET'), 'thorax_single_slice')"
   ]
  },
  {
   "cell_type": "code",
   "execution_count": null,
   "id": "5c6f7189-c688-4245-8087-985b0ed8394c",
   "metadata": {},
   "outputs": [],
   "source": [
    "# Needed for get_subsets()\n",
    "STIR.AcquisitionData.set_storage_scheme('memory')"
   ]
  },
  {
   "cell_type": "code",
   "execution_count": null,
   "id": "2d38776d-a869-4b17-9236-a9c27764c385",
   "metadata": {},
   "outputs": [],
   "source": [
    "# set-up redirection of STIR messages to files\n",
    "_ = STIR.MessageRedirector('info.txt', 'warnings.txt', 'errors.txt')"
   ]
  },
  {
   "cell_type": "code",
   "execution_count": null,
   "id": "ade9cd6d-a1f8-4912-a05b-2ac13574b20e",
   "metadata": {},
   "outputs": [],
   "source": [
    "#%% some handy function definitions\n",
    "def plot_2d_image(idx,vol,title,clims=None,cmap=\"viridis\"):\n",
    "    \"\"\"Customized version of subplot to plot 2D image\"\"\"\n",
    "    plt.subplot(*idx)\n",
    "    plt.imshow(vol,cmap=cmap)\n",
    "    if not clims is None:\n",
    "        plt.clim(clims)\n",
    "    plt.colorbar(shrink=.4)\n",
    "    plt.title(title)\n",
    "    plt.axis(\"off\")\n"
   ]
  },
  {
   "cell_type": "code",
   "execution_count": null,
   "id": "776ed9c8-aaa4-42ae-b826-1214cfbe2455",
   "metadata": {},
   "outputs": [],
   "source": [
    "#%% Read in images\n",
    "image = STIR.ImageData(os.path.join(data_path, 'emission.hv'))*0.05\n",
    "attn_image = STIR.ImageData(os.path.join(data_path, 'attenuation.hv'))\n",
    "template = STIR.AcquisitionData(os.path.join(data_path, 'template_sinogram.hs'))"
   ]
  },
  {
   "cell_type": "code",
   "execution_count": null,
   "id": "f27e21ca-4a93-4413-a2ba-7b85ffd56aa3",
   "metadata": {},
   "outputs": [],
   "source": [
    "#%% save max for future displays\n",
    "cmax = image.max()*.6"
   ]
  },
  {
   "cell_type": "code",
   "execution_count": null,
   "id": "cbdcb47e-1622-4d96-ba9f-47ab34adf4f3",
   "metadata": {},
   "outputs": [],
   "source": [
    "# create attenuation\n",
    "acq_model_for_attn = STIR.AcquisitionModelUsingRayTracingMatrix()\n",
    "asm_attn = STIR.AcquisitionSensitivityModel(attn_image, acq_model_for_attn)\n",
    "asm_attn.set_up(template)\n",
    "attn_factors = asm_attn.forward(template.get_uniform_copy(1))\n",
    "asm_attn = STIR.AcquisitionSensitivityModel(attn_factors)"
   ]
  },
  {
   "cell_type": "code",
   "execution_count": null,
   "id": "f535a092-0c0e-4942-9c79-b5b7a34813cc",
   "metadata": {},
   "outputs": [],
   "source": [
    "# fake background\n",
    "background = template.get_uniform_copy(1)"
   ]
  },
  {
   "cell_type": "code",
   "execution_count": null,
   "id": "83d4c64b-816d-409e-958c-eb1c30f50f0c",
   "metadata": {},
   "outputs": [],
   "source": [
    "# create acquisition model\n",
    "acq_model = STIR.AcquisitionModelUsingRayTracingMatrix()\n",
    "# we will increase the number of rays used for every Line-of-Response (LOR) as an example\n",
    "# (it is not required for the exercise of course)\n",
    "acq_model.set_num_tangential_LORs(5)\n",
    "acq_model.set_acquisition_sensitivity(asm_attn)\n",
    "# set-up\n",
    "acq_model.set_up(template,image)"
   ]
  },
  {
   "cell_type": "code",
   "execution_count": null,
   "id": "ba078b49-6a85-49a2-b5e6-b0bcc85d4a3d",
   "metadata": {},
   "outputs": [],
   "source": [
    "#%% simulate some data using forward projection\n",
    "acquired_data=acq_model.forward(image)"
   ]
  },
  {
   "cell_type": "code",
   "execution_count": null,
   "id": "0693d9e0-018a-4a0a-9526-9e8b7c7503da",
   "metadata": {},
   "outputs": [],
   "source": [
    "acquired_data.max()"
   ]
  },
  {
   "cell_type": "code",
   "execution_count": null,
   "id": "eb191579-8cd4-4dfc-bb16-4b21aeda7d7f",
   "metadata": {},
   "outputs": [],
   "source": [
    "initial_image=image.get_uniform_copy(cmax / 4)\n",
    "make_cylindrical_FOV(initial_image)\n",
    "# display\n",
    "im_slice = initial_image.dimensions()[0] // 2\n",
    "#plt.figure()\n",
    "#plot_2d_image([1,1,1],initial_image.as_array()[im_slice,:,:], 'initial image',[0,cmax])"
   ]
  },
  {
   "cell_type": "code",
   "execution_count": null,
   "id": "9dd61bbc-0aca-4dbe-ba9b-761098931188",
   "metadata": {},
   "outputs": [],
   "source": [
    "num_subsets = 4\n",
    "data,acq_models, obj_funs = partitioner.data_partition(acquired_data,background,attn_factors, num_subsets)"
   ]
  },
  {
   "cell_type": "code",
   "execution_count": null,
   "id": "17dc8e0c-7a85-4228-8867-3cc4959c37b6",
   "metadata": {},
   "outputs": [],
   "source": [
    "prior = STIR.RelativeDifferencePrior()\n",
    "# evenly distribute prior over subsets\n",
    "prior.set_penalisation_factor(1 / num_subsets);\n",
    "prior.set_up(initial_image)\n",
    "for f in obj_funs:\n",
    "    f.set_prior(prior)"
   ]
  },
  {
   "cell_type": "code",
   "execution_count": null,
   "id": "2f0123e5-9fa5-403b-a1f7-a26db4a58f7d",
   "metadata": {},
   "outputs": [],
   "source": [
    "bsrem1 = BSREM1(data, obj_funs, initial=initial_image, initial_step_size=1, relaxation_eta=.01, update_objective_interval=5)\n",
    "bsrem1.max_iteration=50\n",
    "bsrem1.run()"
   ]
  },
  {
   "cell_type": "code",
   "execution_count": null,
   "id": "7bb6e242-ab02-48fb-a9c3-438834f76834",
   "metadata": {},
   "outputs": [],
   "source": [
    "bsrem2=BSREM2(data, acq_models, prior, initial=initial_image, initial_step_size=1, relaxation_eta=.01, update_objective_interval=5)\n",
    "bsrem2.max_iteration=50\n",
    "bsrem2.run()"
   ]
  },
  {
   "cell_type": "code",
   "execution_count": null,
   "id": "146528bf-6c0a-42ee-9226-57b79de0eb9b",
   "metadata": {},
   "outputs": [],
   "source": [
    "plt.figure()\n",
    "tmp1=bsrem1.x\n",
    "tmp2=bsrem2.x\n",
    "plot_2d_image([1,2,1], tmp1.as_array()[im_slice,:,:], 'image',[0,tmp1.max()])\n",
    "plot_2d_image([1,2,2], tmp2.as_array()[im_slice,:,:], 'image',[0,tmp1.max()])"
   ]
  },
  {
   "cell_type": "code",
   "execution_count": null,
   "id": "39ba9908-bd77-4a1a-ac80-ce149cbb6dd8",
   "metadata": {},
   "outputs": [],
   "source": [
    "plt.close('all')"
   ]
  }
 ],
 "metadata": {
  "kernelspec": {
   "display_name": "Python 3",
   "language": "python",
   "name": "python3"
  },
  "language_info": {
   "codemirror_mode": {
    "name": "ipython"
   },
   "file_extension": ".py",
   "mimetype": "text/x-python",
   "name": "python",
   "nbconvert_exporter": "python"
  }
 },
 "nbformat": 4,
 "nbformat_minor": 5
}
